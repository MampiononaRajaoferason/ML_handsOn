{
 "cells": [
  {
   "cell_type": "code",
   "execution_count": 3,
   "metadata": {},
   "outputs": [
    {
     "name": "stderr",
     "output_type": "stream",
     "text": [
      "Matplotlib is building the font cache; this may take a moment.\n"
     ]
    },
    {
     "ename": "KeyError",
     "evalue": "'Unrecognized key \"ytic.labelsize\" for group \"ytic\" and name \"labelsize\"'",
     "output_type": "error",
     "traceback": [
      "\u001b[1;31m---------------------------------------------------------------------------\u001b[0m",
      "\u001b[1;31mKeyError\u001b[0m                                  Traceback (most recent call last)",
      "File \u001b[1;32me:\\anaconda3\\lib\\site-packages\\matplotlib\\__init__.py:716\u001b[0m, in \u001b[0;36mRcParams.__setitem__\u001b[1;34m(self, key, val)\u001b[0m\n\u001b[0;32m    715\u001b[0m \u001b[39mtry\u001b[39;00m:\n\u001b[1;32m--> 716\u001b[0m     cval \u001b[39m=\u001b[39m \u001b[39mself\u001b[39;49m\u001b[39m.\u001b[39;49mvalidate[key](val)\n\u001b[0;32m    717\u001b[0m \u001b[39mexcept\u001b[39;00m \u001b[39mValueError\u001b[39;00m \u001b[39mas\u001b[39;00m ve:\n",
      "\u001b[1;31mKeyError\u001b[0m: 'ytic.labelsize'",
      "\nThe above exception was the direct cause of the following exception:\n",
      "\u001b[1;31mKeyError\u001b[0m                                  Traceback (most recent call last)",
      "File \u001b[1;32me:\\anaconda3\\lib\\site-packages\\matplotlib\\__init__.py:1046\u001b[0m, in \u001b[0;36mrc\u001b[1;34m(group, **kwargs)\u001b[0m\n\u001b[0;32m   1045\u001b[0m \u001b[39mtry\u001b[39;00m:\n\u001b[1;32m-> 1046\u001b[0m     rcParams[key] \u001b[39m=\u001b[39m v\n\u001b[0;32m   1047\u001b[0m \u001b[39mexcept\u001b[39;00m \u001b[39mKeyError\u001b[39;00m \u001b[39mas\u001b[39;00m err:\n",
      "File \u001b[1;32me:\\anaconda3\\lib\\site-packages\\matplotlib\\__init__.py:721\u001b[0m, in \u001b[0;36mRcParams.__setitem__\u001b[1;34m(self, key, val)\u001b[0m\n\u001b[0;32m    720\u001b[0m \u001b[39mexcept\u001b[39;00m \u001b[39mKeyError\u001b[39;00m \u001b[39mas\u001b[39;00m err:\n\u001b[1;32m--> 721\u001b[0m     \u001b[39mraise\u001b[39;00m \u001b[39mKeyError\u001b[39;00m(\n\u001b[0;32m    722\u001b[0m         \u001b[39mf\u001b[39m\u001b[39m\"\u001b[39m\u001b[39m{\u001b[39;00mkey\u001b[39m}\u001b[39;00m\u001b[39m is not a valid rc parameter (see rcParams.keys() for \u001b[39m\u001b[39m\"\u001b[39m\n\u001b[0;32m    723\u001b[0m         \u001b[39mf\u001b[39m\u001b[39m\"\u001b[39m\u001b[39ma list of valid parameters)\u001b[39m\u001b[39m\"\u001b[39m) \u001b[39mfrom\u001b[39;00m \u001b[39merr\u001b[39;00m\n",
      "\u001b[1;31mKeyError\u001b[0m: 'ytic.labelsize is not a valid rc parameter (see rcParams.keys() for a list of valid parameters)'",
      "\nThe above exception was the direct cause of the following exception:\n",
      "\u001b[1;31mKeyError\u001b[0m                                  Traceback (most recent call last)",
      "Cell \u001b[1;32mIn[3], line 16\u001b[0m\n\u001b[0;32m     14\u001b[0m mpl\u001b[39m.\u001b[39mrc(\u001b[39m'\u001b[39m\u001b[39maxes\u001b[39m\u001b[39m'\u001b[39m, labelsize \u001b[39m=\u001b[39m \u001b[39m14\u001b[39m)\n\u001b[0;32m     15\u001b[0m mpl\u001b[39m.\u001b[39mrc(\u001b[39m'\u001b[39m\u001b[39mxtick\u001b[39m\u001b[39m'\u001b[39m, labelsize \u001b[39m=\u001b[39m \u001b[39m12\u001b[39m)\n\u001b[1;32m---> 16\u001b[0m mpl\u001b[39m.\u001b[39;49mrc(\u001b[39m'\u001b[39;49m\u001b[39mytic\u001b[39;49m\u001b[39m'\u001b[39;49m,labelsize \u001b[39m=\u001b[39;49m \u001b[39m12\u001b[39;49m)\n\u001b[0;32m     18\u001b[0m \u001b[39m#where to save the figures\u001b[39;00m\n\u001b[0;32m     19\u001b[0m PROJECT_ROOT_DIR \u001b[39m=\u001b[39m \u001b[39m'\u001b[39m\u001b[39m.\u001b[39m\u001b[39m'\u001b[39m\n",
      "File \u001b[1;32me:\\anaconda3\\lib\\site-packages\\matplotlib\\__init__.py:1048\u001b[0m, in \u001b[0;36mrc\u001b[1;34m(group, **kwargs)\u001b[0m\n\u001b[0;32m   1046\u001b[0m     rcParams[key] \u001b[39m=\u001b[39m v\n\u001b[0;32m   1047\u001b[0m \u001b[39mexcept\u001b[39;00m \u001b[39mKeyError\u001b[39;00m \u001b[39mas\u001b[39;00m err:\n\u001b[1;32m-> 1048\u001b[0m     \u001b[39mraise\u001b[39;00m \u001b[39mKeyError\u001b[39;00m((\u001b[39m'\u001b[39m\u001b[39mUnrecognized key \u001b[39m\u001b[39m\"\u001b[39m\u001b[39m%s\u001b[39;00m\u001b[39m\"\u001b[39m\u001b[39m for group \u001b[39m\u001b[39m\"\u001b[39m\u001b[39m%s\u001b[39;00m\u001b[39m\"\u001b[39m\u001b[39m and \u001b[39m\u001b[39m'\u001b[39m\n\u001b[0;32m   1049\u001b[0m                     \u001b[39m'\u001b[39m\u001b[39mname \u001b[39m\u001b[39m\"\u001b[39m\u001b[39m%s\u001b[39;00m\u001b[39m\"\u001b[39m\u001b[39m'\u001b[39m) \u001b[39m%\u001b[39m (key, g, name)) \u001b[39mfrom\u001b[39;00m \u001b[39merr\u001b[39;00m\n",
      "\u001b[1;31mKeyError\u001b[0m: 'Unrecognized key \"ytic.labelsize\" for group \"ytic\" and name \"labelsize\"'"
     ]
    }
   ],
   "source": [
    "from __future__ import division, print_function, unicode_literals\n",
    "\n",
    "#common imports \n",
    "import numpy as np\n",
    "import os\n",
    "\n",
    "# \n",
    "np.random.seed(42)\n",
    "\n",
    "#plot pretty figures\n",
    "%matplotlib inline\n",
    "import matplotlib as mpl\n",
    "import matplotlib.pyplot as plt\n",
    "mpl.rc('axes', labelsize=14)\n",
    "mpl.rc('xtick', labelsize=12)\n",
    "mpl.rc('ytick', labelsize=12)\n",
    "\n",
    "#where to save the figures\n",
    "PROJECT_ROOT_DIR = '.'\n",
    "CHAPTER_ID = 'end_to_end_practical'\n",
    "IMAGE_PATH = os.join.path(PROJECT_ROOT_DIR,'images',CHAPTER_ID)\n",
    "\n",
    "def save_fig(fig_id, tight_layout=True, fig_extension=\"png\", resolution=300):\n",
    "    path = os.path.join(IMAGES_PATH, fig_id + \".\" + fig_extension)\n",
    "    print(\"Saving figure\", fig_id)\n",
    "    if tight_layout:\n",
    "        plt.tight_layout()\n",
    "    plt.savefig(path, format=fig_extension, dpi=resolution)\n",
    "\n",
    "# Ignore useless warnings (see SciPy issue #5998)\n",
    "import warnings\n",
    "warnings.filterwarnings(action=\"ignore\", message=\"^internal gelsd\")"
   ]
  },
  {
   "cell_type": "code",
   "execution_count": null,
   "metadata": {},
   "outputs": [],
   "source": []
  }
 ],
 "metadata": {
  "kernelspec": {
   "display_name": "Python 3",
   "language": "python",
   "name": "python3"
  },
  "language_info": {
   "codemirror_mode": {
    "name": "ipython",
    "version": 3
   },
   "file_extension": ".py",
   "mimetype": "text/x-python",
   "name": "python",
   "nbconvert_exporter": "python",
   "pygments_lexer": "ipython3",
   "version": "3.10.9"
  },
  "orig_nbformat": 4
 },
 "nbformat": 4,
 "nbformat_minor": 2
}
